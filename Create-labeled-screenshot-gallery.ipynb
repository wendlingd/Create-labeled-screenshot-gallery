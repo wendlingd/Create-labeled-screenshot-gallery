{
 "cells": [
  {
   "cell_type": "markdown",
   "id": "aa5c4b7a",
   "metadata": {},
   "source": [
    "# Create a labeled screenshot collection\n",
    "With Python, Selenium, Pillow\n",
    "\n",
    "https://github.com/wendlingd; last updated 2021-09-04\n",
    "\n",
    "This script uses an Excel-based URL inventory to write screenshots that show the page's URL at of the top of each image. Example use case: Create a gallery / \"photo album\" of home page screenshots for a web product portfolio.\n",
    "\n",
    "**Requirements**\n",
    "- https://selenium-python.readthedocs.io\n",
    "- https://selenium.dev/selenium/docs/api/py/\n",
    "- webdriver; choices include:\n",
    "  - [Chromedriver](https://chromedriver.chromium.org/downloads) (used here)\n",
    "  - [Geckodriver](https://github.com/mozilla/geckodriver) (not used here)\n",
    "- Pillow:\n",
    "  - Used to write on top of the image, such as URL, ID\n",
    "  - [Pillow doc](https://pillow.readthedocs.io/en/stable/index.html)\n",
    "  - [Cropping examples](https://stackoverflow.com/questions/9983263/how-to-crop-an-image-using-pil)\n",
    "  - [Font doc](https://pillow.readthedocs.io/en/stable/reference/ImageFont.html) (used here: Verdana MacOS system font; for Windows consider arial.ttf)\n",
    "\n",
    "\n",
    "**Notes**\n",
    "\n",
    "- Adjust screenshot appearance, cropping, and font to your resolution and operating system.\n",
    "- Will not capture pages that are behind authentication.\n",
    "- Check the output in case requests time out; you can manually alter the code to collect these as one-off's.\n",
    "- Serving suggestions: Import into photo manager app; convert slide show into a video; link images from product portfolio database.\n",
    "  \n",
    "\n",
    "## Get started"
   ]
  },
  {
   "cell_type": "code",
   "execution_count": 31,
   "id": "d7b729c9",
   "metadata": {},
   "outputs": [],
   "source": [
    "import pandas as pd\n",
    "import os\n",
    "import sys\n",
    "\n",
    "from selenium import webdriver # The web scraper\n",
    "from selenium.webdriver.chrome.options import Options\n",
    "from selenium.common.exceptions import TimeoutException\n",
    "from selenium.common.exceptions import WebDriverException\n",
    "\n",
    "from PIL import Image, ImageDraw, ImageFont # To write filename onto images\n",
    "\n",
    "from time import sleep"
   ]
  },
  {
   "cell_type": "markdown",
   "id": "e6f97ff1",
   "metadata": {},
   "source": [
    "```webdriver.Chrome``` will not run if your Chrome and Chomedriver are different versions. In that case you'll need to download and place a new version of Chomedriver. If the below test fails. Might be easiest to (1) use a path when invoking the driver and (2) include the specific updating procedure here... \n",
    "- Go to https://chromedriver.chromium.org/downloads\n",
    "- download appropriate version\n",
    "- Uncompress\n",
    "- Copy to path you have chosen"
   ]
  },
  {
   "cell_type": "code",
   "execution_count": 32,
   "id": "9993e7ae",
   "metadata": {},
   "outputs": [
    {
     "name": "stdout",
     "output_type": "stream",
     "text": [
      "Current chromedriverVersion is 93.0.4577.15; okay to proceed.\n"
     ]
    }
   ],
   "source": [
    "driver = webdriver.Chrome()\n",
    "cdver = driver.capabilities['chrome']['chromedriverVersion'].split(' ')[0]\n",
    "driver.quit()\n",
    "\n",
    "print(f'Current chromedriverVersion is {cdver}; okay to proceed.')\n"
   ]
  },
  {
   "cell_type": "markdown",
   "id": "4f2a0543",
   "metadata": {},
   "source": [
    "## Option 1: Process multi-column file"
   ]
  },
  {
   "cell_type": "code",
   "execution_count": 33,
   "id": "4fda39ac",
   "metadata": {
    "scrolled": true
   },
   "outputs": [
    {
     "data": {
      "text/html": [
       "<div>\n",
       "<style scoped>\n",
       "    .dataframe tbody tr th:only-of-type {\n",
       "        vertical-align: middle;\n",
       "    }\n",
       "\n",
       "    .dataframe tbody tr th {\n",
       "        vertical-align: top;\n",
       "    }\n",
       "\n",
       "    .dataframe thead th {\n",
       "        text-align: right;\n",
       "    }\n",
       "</style>\n",
       "<table border=\"1\" class=\"dataframe\">\n",
       "  <thead>\n",
       "    <tr style=\"text-align: right;\">\n",
       "      <th></th>\n",
       "      <th>product_id</th>\n",
       "      <th>product</th>\n",
       "      <th>home_page</th>\n",
       "    </tr>\n",
       "  </thead>\n",
       "  <tbody>\n",
       "    <tr>\n",
       "      <th>0</th>\n",
       "      <td>1001</td>\n",
       "      <td>Official Guide to U.S. Government Information ...</td>\n",
       "      <td>https://www.usa.gov/</td>\n",
       "    </tr>\n",
       "    <tr>\n",
       "      <th>1</th>\n",
       "      <td>1002</td>\n",
       "      <td>U.S. Government Web Traffic</td>\n",
       "      <td>https://analytics.usa.gov/</td>\n",
       "    </tr>\n",
       "    <tr>\n",
       "      <th>2</th>\n",
       "      <td>1003</td>\n",
       "      <td>USAJOBS - The Federal Government’s official em...</td>\n",
       "      <td>https://www.usajobs.gov/</td>\n",
       "    </tr>\n",
       "  </tbody>\n",
       "</table>\n",
       "</div>"
      ],
      "text/plain": [
       "   product_id                                            product  \\\n",
       "0        1001  Official Guide to U.S. Government Information ...   \n",
       "1        1002                        U.S. Government Web Traffic   \n",
       "2        1003  USAJOBS - The Federal Government’s official em...   \n",
       "\n",
       "                    home_page  \n",
       "0        https://www.usa.gov/  \n",
       "1  https://analytics.usa.gov/  \n",
       "2    https://www.usajobs.gov/  "
      ]
     },
     "execution_count": 33,
     "metadata": {},
     "output_type": "execute_result"
    }
   ],
   "source": [
    "sourceInDf = pd.read_excel('productList.xlsx', engine='openpyxl')\n",
    "sourceInDf.head()"
   ]
  },
  {
   "cell_type": "code",
   "execution_count": 34,
   "id": "c324eeff",
   "metadata": {},
   "outputs": [],
   "source": [
    "# If you want to limit rows for testing, re-running errors, etc.\n",
    "# sourceInDf = sourceInDf.iloc[0:3]\n",
    "# sourceInDf = sourceInDf[sourceInDf['product'].str.contains(\"Gov\") == True]\n",
    "# sourceInDf = sourceInDf[sourceInDf.product_id == 1002]\n",
    "# sourceInDf"
   ]
  },
  {
   "cell_type": "code",
   "execution_count": 35,
   "id": "ecf09013",
   "metadata": {},
   "outputs": [],
   "source": [
    "def get_UrlBox(size, fontname, fontsize, bg, fg, currImgText, position):\n",
    "   \"\"\"\n",
    "   # e.g., run from urlBox = get_UrlBox((w,90), 'Verdana', 30, '#FFC', 'black', currImgText, (4,4))\n",
    "\n",
    "   Uses Pillow to return light-yellow-background box that will be at image top;\n",
    "   'draws' the URL text on it. More options:\n",
    "   https://stackoverflow.com/questions/61742298/using-pythons-pillow-library-how-to-draw-text-without-creating-draw-object-of\n",
    "   https://newbedev.com/pil-drawing-a-semi-transparent-square-overlay-on-image\n",
    "   \"\"\"\n",
    "   urlBox = Image.new('RGBA', size, bg)\n",
    "\n",
    "   # Get a drawing context\n",
    "   draw = ImageDraw.Draw(urlBox)\n",
    "   font = ImageFont.truetype(fontname, fontsize)\n",
    "   draw.text(position, currImgText, fg, font=font)\n",
    "\n",
    "   return urlBox\n"
   ]
  },
  {
   "cell_type": "code",
   "execution_count": 36,
   "id": "af8d609b",
   "metadata": {},
   "outputs": [],
   "source": [
    "def get_vertConcat(urlBox, img_mod):\n",
    "    \"\"\"\n",
    "    Uses Pillow to unite and return the URL textbox joined to the screenshot as one image; \n",
    "    vertical concat of URL textbox + cropped image. More options: \n",
    "    https://note.nkmk.me/en/python-pillow-concat-images/\n",
    "    \"\"\"\n",
    "    combinedImg = Image.new('RGB', (urlBox.width, urlBox.height + img_mod.height))\n",
    "    combinedImg.paste(urlBox, (0, 0))\n",
    "    combinedImg.paste(img_mod, (0, urlBox.height))\n",
    "    \n",
    "    return combinedImg\n"
   ]
  },
  {
   "cell_type": "code",
   "execution_count": 37,
   "id": "07015728",
   "metadata": {
    "scrolled": false
   },
   "outputs": [
    {
     "name": "stdout",
     "output_type": "stream",
     "text": [
      "https://www.usa.gov/\n",
      "https://analytics.usa.gov/\n",
      "https://www.usajobs.gov/\n"
     ]
    }
   ],
   "source": [
    "def save_screenshots(sourceList):\n",
    "    \"\"\"\n",
    "    Walks the df containing URLs and returns one screenshot file for each row, putting the \n",
    "    URL at the top in a separate box. Files are written to /reports, with name product- and\n",
    "    then the product_id number, for example to hyperlink from a product portfolio. currUrl: \n",
    "    You could include other info in the spreadsheet and pass it through -- traffic, device \n",
    "    stats, line of business, etc. \n",
    "    More on cropping: https://stackoverflow.com/questions/9983263/how-to-crop-an-image-using-pil\n",
    "    \"\"\"\n",
    "    driver = webdriver.Chrome() # Might require path\n",
    "    driver.set_page_load_timeout(7)\n",
    "    options = Options()\n",
    "    options.add_argument(\"headless\")\n",
    "    options.headless = True\n",
    "    options.accept_untrusted_certs = True\n",
    "    options.assume_untrusted_cert_issuer = True\n",
    "\n",
    "    for key, value in sourceInDf.iterrows():\n",
    "        currId = value['product_id']\n",
    "        currProduct = value['product']\n",
    "        currUrl = value['home_page']\n",
    "        currImgText = currProduct + '\\n' + currUrl\n",
    "        \n",
    "        try :\n",
    "            driver.get(currUrl)\n",
    "            # Write to disk\n",
    "            pathAndName = 'reports/product-' + str(currId) + \".png\"\n",
    "            driver.save_screenshot(pathAndName)\n",
    "            # Open the file; use Pillow to write filename onto image\n",
    "            image = Image.open(pathAndName)\n",
    "            draw = ImageDraw.Draw(image)\n",
    "            # Reduce screenshot size\n",
    "            w, h = image.size\n",
    "            (left, upper, right, lower) = (0, 0, w, 1500) # reduces the height\n",
    "            img_mod = image.crop((left, upper, right, lower))\n",
    "            # Generate URL-text box. Font: try Verdana for MacOS and arial.ttf for Windows\n",
    "            urlBox = get_UrlBox((w,90), 'Verdana', 30, '#FFC', 'black', currImgText, (4,4))\n",
    "            # Concat images\n",
    "            get_vertConcat(urlBox, img_mod).save('reports/product-' + str(currId) + '.png')\n",
    "\n",
    "            print(f\"{currUrl}\")\n",
    "            sleep(0.5)\n",
    "        except (TimeoutException, WebDriverException): #  as e\n",
    "            print(f\"## Error, skipping: {currUrl}  ID {currId}\")\n",
    "\n",
    "    driver.quit()   \n",
    "\n",
    "save_screenshots(sourceInDf)\n"
   ]
  },
  {
   "cell_type": "code",
   "execution_count": null,
   "id": "98b20d52",
   "metadata": {},
   "outputs": [],
   "source": []
  }
 ],
 "metadata": {
  "kernelspec": {
   "display_name": "Python 3",
   "language": "python",
   "name": "python3"
  },
  "language_info": {
   "codemirror_mode": {
    "name": "ipython",
    "version": 3
   },
   "file_extension": ".py",
   "mimetype": "text/x-python",
   "name": "python",
   "nbconvert_exporter": "python",
   "pygments_lexer": "ipython3",
   "version": "3.7.10"
  },
  "toc": {
   "base_numbering": 1,
   "nav_menu": {},
   "number_sections": true,
   "sideBar": true,
   "skip_h1_title": true,
   "title_cell": "Table of Contents",
   "title_sidebar": "Contents",
   "toc_cell": false,
   "toc_position": {},
   "toc_section_display": true,
   "toc_window_display": false
  }
 },
 "nbformat": 4,
 "nbformat_minor": 5
}
